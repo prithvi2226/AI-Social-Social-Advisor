{
 "cells": [
  {
   "cell_type": "code",
   "execution_count": 1,
   "metadata": {},
   "outputs": [],
   "source": [
    "#Twitter Scraper\n",
    "import csv\n",
    "from getpass import getpass\n",
    "from time import sleep\n",
    "from selenium.webdriver.common.keys import Keys\n",
    "from selenium.common.exceptions import NoSuchElementException\n",
    "from selenium.webdriver import Chrome"
   ]
  },
  {
   "cell_type": "code",
   "execution_count": 2,
   "metadata": {},
   "outputs": [],
   "source": [
    "driver = Chrome('C:\\Program Files (x86)\\chromedriver.exe')\n",
    "driver.get('https://twitter.com/login')\n"
   ]
  },
  {
   "cell_type": "code",
   "execution_count": 3,
   "metadata": {},
   "outputs": [],
   "source": [
    "username = driver.find_element_by_xpath('//input[@name=\"session[username_or_email]\"]')\n",
    "username.send_keys('Prithvi31401645')"
   ]
  },
  {
   "cell_type": "code",
   "execution_count": 4,
   "metadata": {},
   "outputs": [
    {
     "name": "stdout",
     "output_type": "stream",
     "text": [
      "········\n"
     ]
    }
   ],
   "source": [
    "my_password = getpass()"
   ]
  },
  {
   "cell_type": "code",
   "execution_count": 5,
   "metadata": {},
   "outputs": [],
   "source": [
    "apassword = driver.find_element_by_xpath('//input[@name=\"session[password]\"]')\n",
    "apassword.send_keys(my_password)"
   ]
  },
  {
   "cell_type": "code",
   "execution_count": 6,
   "metadata": {},
   "outputs": [],
   "source": [
    "apassword.send_keys(Keys.RETURN)"
   ]
  },
  {
   "cell_type": "code",
   "execution_count": 8,
   "metadata": {},
   "outputs": [],
   "source": [
    "search_input = driver.find_element_by_xpath('//input[@aria-label=\"Search query\"]')\n",
    "search_input.send_keys('#nike')"
   ]
  },
  {
   "cell_type": "code",
   "execution_count": 8,
   "metadata": {},
   "outputs": [],
   "source": [
    "search_input.send_keys(Keys.RETURN)"
   ]
  },
  {
   "cell_type": "code",
   "execution_count": 9,
   "metadata": {},
   "outputs": [],
   "source": [
    "driver.find_element_by_link_text('Latest').click()"
   ]
  },
  {
   "cell_type": "code",
   "execution_count": 10,
   "metadata": {},
   "outputs": [],
   "source": [
    "cards = driver.find_elements_by_xpath('//div[@data-testid=\"tweet\"]')"
   ]
  },
  {
   "cell_type": "code",
   "execution_count": 11,
   "metadata": {},
   "outputs": [],
   "source": [
    "card = cards[4]"
   ]
  },
  {
   "cell_type": "code",
   "execution_count": 12,
   "metadata": {},
   "outputs": [
    {
     "data": {
      "text/plain": [
       "'Supreme君'"
      ]
     },
     "execution_count": 12,
     "metadata": {},
     "output_type": "execute_result"
    }
   ],
   "source": [
    "#username\n",
    "card.find_element_by_xpath('./div[2]/div[1]//span').text"
   ]
  },
  {
   "cell_type": "code",
   "execution_count": 13,
   "metadata": {},
   "outputs": [
    {
     "data": {
      "text/plain": [
       "'@supreme_kun'"
      ]
     },
     "execution_count": 13,
     "metadata": {},
     "output_type": "execute_result"
    }
   ],
   "source": [
    "#twitter handle\n",
    "card.find_element_by_xpath('.//span[contains(text(), \"@\")]').text"
   ]
  },
  {
   "cell_type": "code",
   "execution_count": 14,
   "metadata": {},
   "outputs": [
    {
     "data": {
      "text/plain": [
       "'2021-04-24T15:39:46.000Z'"
      ]
     },
     "execution_count": 14,
     "metadata": {},
     "output_type": "execute_result"
    }
   ],
   "source": [
    "#postdate\n",
    "card.find_element_by_xpath('.//time').get_attribute('datetime')"
   ]
  },
  {
   "cell_type": "code",
   "execution_count": 15,
   "metadata": {},
   "outputs": [
    {
     "data": {
      "text/plain": [
       "'【\\n速報】\\n\\n【AMBUSH × Nike】Dunk High “Deep Royal”が2021年春夏に発売予定\\n\\n#シュプリーム #2019SS #ファッション #アパレル #コラボ #supreme #nike #stussy #スニーカー #ナイキ\\n http://supremekun.com'"
      ]
     },
     "execution_count": 15,
     "metadata": {},
     "output_type": "execute_result"
    }
   ],
   "source": [
    "#content of tweet\n",
    "comment = card.find_element_by_xpath('.//div[2]/div[2]/div[1]').text\n",
    "responding = card.find_element_by_xpath('.//div[2]/div[2]/div[2]').text\n",
    "comment + responding"
   ]
  },
  {
   "cell_type": "code",
   "execution_count": 16,
   "metadata": {},
   "outputs": [
    {
     "data": {
      "text/plain": [
       "''"
      ]
     },
     "execution_count": 16,
     "metadata": {},
     "output_type": "execute_result"
    }
   ],
   "source": [
    "#reply count\n",
    "card.find_element_by_xpath('.//div[@data-testid=\"reply\"]').text"
   ]
  },
  {
   "cell_type": "code",
   "execution_count": 17,
   "metadata": {},
   "outputs": [
    {
     "data": {
      "text/plain": [
       "''"
      ]
     },
     "execution_count": 17,
     "metadata": {},
     "output_type": "execute_result"
    }
   ],
   "source": [
    "#retweet\n",
    "card.find_element_by_xpath('.//div[@data-testid=\"retweet\"]').text"
   ]
  },
  {
   "cell_type": "code",
   "execution_count": 22,
   "metadata": {},
   "outputs": [
    {
     "data": {
      "text/plain": [
       "''"
      ]
     },
     "execution_count": 22,
     "metadata": {},
     "output_type": "execute_result"
    }
   ],
   "source": [
    "#likes\n",
    "card.find_element_by_xpath('.//div[@data-testid=\"like\"]').text"
   ]
  },
  {
   "cell_type": "code",
   "execution_count": 26,
   "metadata": {},
   "outputs": [],
   "source": [
    "def get_tweet_data(card):\n",
    "    usename = card.find_element_by_xpath('./div[2]/div[1]//span').text\n",
    "    handle = card.find_element_by_xpath('.//span[contains(text(), \"@\")]').text\n",
    "    try:\n",
    "        postdate = card.find_element_by_xpath('.//time').get_attribute('datetime')\n",
    "    except NoSuchElementException:\n",
    "        return\n",
    "    comment = card.find_element_by_xpath('.//div[2]/div[2]/div[1]').text\n",
    "    responding = card.find_element_by_xpath('.//div[2]/div[2]/div[2]').text\n",
    "    text = comment + responding\n",
    "    reply_cnt = card.find_element_by_xpath('.//div[@data-testid=\"reply\"]').text\n",
    "    retweet_cnt = card.find_element_by_xpath('.//div[@data-testid=\"retweet\"]').text\n",
    "    like_cnt = card.find_element_by_xpath('.//div[@data-testid=\"like\"]').text\n",
    "    \n",
    "    tweet = (usename, handle, postdate, text, reply_cnt, retweet_cnt, like_cnt)\n",
    "    return tweet\n",
    "    "
   ]
  },
  {
   "cell_type": "code",
   "execution_count": 27,
   "metadata": {},
   "outputs": [
    {
     "data": {
      "text/plain": [
       "(<selenium.webdriver.remote.webelement.WebElement (session=\"c7b40d7d7b4d2d9409f471b35fd2a940\", element=\"44d744d6-8cef-45ce-8d15-bc1b39744105\")>,\n",
       " '@supreme_kun',\n",
       " '2021-04-24T15:39:46.000Z',\n",
       " '【\\n速報】\\n\\n【AMBUSH × Nike】Dunk High “Deep Royal”が2021年春夏に発売予定\\n\\n#シュプリーム #2019SS #ファッション #アパレル #コラボ #supreme #nike #stussy #スニーカー #ナイキ\\n http://supremekun.com',\n",
       " '',\n",
       " '',\n",
       " '')"
      ]
     },
     "execution_count": 27,
     "metadata": {},
     "output_type": "execute_result"
    }
   ],
   "source": [
    "get_tweet_data(card)"
   ]
  },
  {
   "cell_type": "code",
   "execution_count": 28,
   "metadata": {},
   "outputs": [],
   "source": [
    "tweet_data = []\n",
    "\n",
    "for card in cards:\n",
    "    data = get_tweet_data(card)\n",
    "    if data:\n",
    "        tweet_data.append(data)"
   ]
  },
  {
   "cell_type": "code",
   "execution_count": 29,
   "metadata": {},
   "outputs": [
    {
     "data": {
      "text/plain": [
       "(<selenium.webdriver.remote.webelement.WebElement (session=\"c7b40d7d7b4d2d9409f471b35fd2a940\", element=\"44d744d6-8cef-45ce-8d15-bc1b39744105\")>,\n",
       " '@rowdygirlzent',\n",
       " '2021-04-24T15:40:35.000Z',\n",
       " '#freshkickzleague #sneakerhead #sneakers #sneakerheads #kicks #kickz #nike #Jordan #sneakerculture #sneakeraddict #sneakerjunkie\\n#onlineshopping #sneakernews\\n#welcometotheleague #sneaker #sneakerfreak\\n#sneakerfiend #kicksoftheday #kotd #gotemfresh \\n#kicksonfire #kicksforsaleQuote Tweet\\nFresh Kickz League\\n@GotEmFresh\\n · 2h\\nHappy Sneakerheadz Saturday https://freshkickzleague.com #freshkickzleague #sneakerhead #sneakers #sneakerheads #kicks #kickz #nike #Jordan #sneakerculture #sneakeraddict #sneakerjunkie\\n#onlineshopping #sneakernews\\n#welcometotheleague #sneaker #sneakerfreak\\n#sneakerfiend #gotemfresh',\n",
       " '',\n",
       " '',\n",
       " '1')"
      ]
     },
     "execution_count": 29,
     "metadata": {},
     "output_type": "execute_result"
    }
   ],
   "source": [
    "tweet_data[2]"
   ]
  },
  {
   "cell_type": "code",
   "execution_count": 30,
   "metadata": {},
   "outputs": [],
   "source": [
    "with open('tweets.csv', 'w', newline='', encoding='utf-8') as f:\n",
    "    header = ['Username', 'Handle', 'Timestamp', 'Tweet', 'Likes', 'Retweets', 'Comments']\n",
    "    writer = csv.writer(f)\n",
    "    writer.writerow(header)\n",
    "    writer.writerows(tweet_data)"
   ]
  },
  {
   "cell_type": "code",
   "execution_count": 31,
   "metadata": {},
   "outputs": [],
   "source": [
    "driver.execute_script('window.scrollTo(0, document.body.scrollHeight);')"
   ]
  },
  {
   "cell_type": "markdown",
   "metadata": {},
   "source": [
    "### Putting it all together"
   ]
  },
  {
   "cell_type": "code",
   "execution_count": 1,
   "metadata": {},
   "outputs": [],
   "source": [
    "import csv\n",
    "from getpass import getpass\n",
    "from time import sleep\n",
    "from selenium.webdriver.common.keys import Keys\n",
    "from selenium.common.exceptions import NoSuchElementException\n",
    "from selenium.webdriver import Chrome\n",
    "\n",
    "def get_tweet_data(card):\n",
    "    usename = card.find_element_by_xpath('./div[2]/div[1]//span').text\n",
    "    \n",
    "    handle = card.find_element_by_xpath('.//span[contains(text(), \"@\")]').text\n",
    "    try:\n",
    "        postdate = card.find_element_by_xpath('.//time').get_attribute('datetime')\n",
    "    except NoSuchElementException:\n",
    "        return\n",
    "    comment = card.find_element_by_xpath('.//div[2]/div[2]/div[1]').text\n",
    "    responding = card.find_element_by_xpath('.//div[2]/div[2]/div[2]').text\n",
    "    text = comment + responding\n",
    "    reply_cnt = card.find_element_by_xpath('.//div[@data-testid=\"reply\"]').text\n",
    "    retweet_cnt = card.find_element_by_xpath('.//div[@data-testid=\"retweet\"]').text\n",
    "    like_cnt = card.find_element_by_xpath('.//div[@data-testid=\"like\"]').text\n",
    "    \n",
    "    tweet = (usename, handle, postdate, text, reply_cnt, retweet_cnt, like_cnt)\n",
    "    return tweet\n",
    "\n",
    "driver = Chrome('C:\\Program Files (x86)\\chromedriver.exe')\n",
    "\n",
    "#navigate to login\n",
    "driver.get('https://twitter.com/login')\n",
    "driver.maximize_window()\n",
    "\n",
    "\n",
    "            \n",
    "            \n",
    "            \n",
    "            \n",
    "            \n",
    "            \n",
    "            \n",
    "            \n",
    "            \n",
    "            \n",
    "            \n",
    "\n",
    "\n"
   ]
  },
  {
   "cell_type": "code",
   "execution_count": 2,
   "metadata": {},
   "outputs": [
    {
     "name": "stdout",
     "output_type": "stream",
     "text": [
      "········\n"
     ]
    }
   ],
   "source": [
    "username = driver.find_element_by_xpath('//input[@name=\"session[username_or_email]\"]')\n",
    "username.send_keys('Prithvi31401645')\n",
    "my_password = getpass()\n",
    "\n",
    "apassword = driver.find_element_by_xpath('//input[@name=\"session[password]\"]')\n",
    "apassword.send_keys(my_password)\n",
    "apassword.send_keys(Keys.RETURN)\n",
    "\n"
   ]
  },
  {
   "cell_type": "code",
   "execution_count": 12,
   "metadata": {},
   "outputs": [],
   "source": [
    "search_input = driver.find_element_by_xpath('//input[@aria-label=\"Search query\"]')\n",
    "search_input.send_keys('#vaccine')\n",
    "search_input.send_keys(Keys.RETURN)\n",
    "\n",
    "driver.find_element_by_link_text('Latest').click()\n",
    "\n",
    "data = []\n",
    "tweet_ids = set()\n",
    "last_position = driver.execute_script(\"return window.pageYOffset;\")\n",
    "scrolling = True\n",
    "\n",
    "while scrolling:\n",
    "    page_cards = driver.find_elements_by_xpath('//div[@data-testid=\"tweet\"]')\n",
    "    for card in page_cards[-15:]:\n",
    "        tweet = get_tweet_data(card)\n",
    "        if tweet:\n",
    "            tweet_id = ''.join(tweet)\n",
    "            if tweet_id not in tweet_ids:\n",
    "                tweet_ids.add(tweet_id)\n",
    "                data.append(tweet)\n",
    "            \n",
    "    \n",
    "    scroll_attempt = 0\n",
    "    while True:\n",
    "        driver.execute_script('window.scrollTo(0, document.body.scrollHeight);')\n",
    "        sleep(1)\n",
    "        curr_position = driver.execute_script(\"return window.pageYOffset;\")\n",
    "        if last_position == curr_position:\n",
    "            scroll_attempt += 1\n",
    "            \n",
    "            if scroll_attempt >= 3:\n",
    "                scrolling = False\n",
    "                break\n",
    "            else:\n",
    "                sleep(2)\n",
    "        \n",
    "        else:\n",
    "            last_position = curr_position\n",
    "            break"
   ]
  },
  {
   "cell_type": "code",
   "execution_count": 13,
   "metadata": {},
   "outputs": [
    {
     "data": {
      "text/plain": [
       "125"
      ]
     },
     "execution_count": 13,
     "metadata": {},
     "output_type": "execute_result"
    }
   ],
   "source": [
    "len(data)"
   ]
  },
  {
   "cell_type": "code",
   "execution_count": 14,
   "metadata": {},
   "outputs": [],
   "source": [
    "with open('covid2.csv', 'w', newline='', encoding='utf-8') as f:\n",
    "    header = ['Username', 'Handle', 'Timestamp', 'Comments', 'Likes', 'Retweets', 'Text']\n",
    "    writer = csv.writer(f)\n",
    "    writer.writerow(header)\n",
    "    writer.writerows(data)"
   ]
  },
  {
   "cell_type": "code",
   "execution_count": 15,
   "metadata": {},
   "outputs": [
    {
     "name": "stdout",
     "output_type": "stream",
     "text": [
      "('TF Venom-001', '@001_venom', '2021-05-15T00:31:36.000Z', '#COVIDー19 #COVID19 #vaccine #VaccinePassports #vaccination #Sheeple #Covid_19 #JUSTSAYNO #vaccines #NWO #COVID #CovidVaccine  #COVIDVaccination #COVID1984 #Biden #Biden4Prison #NotMyPresident #BidenRegime', '', '4', '2')\n"
     ]
    }
   ],
   "source": [
    "print(data[0])"
   ]
  },
  {
   "cell_type": "code",
   "execution_count": null,
   "metadata": {},
   "outputs": [],
   "source": []
  }
 ],
 "metadata": {
  "kernelspec": {
   "display_name": "Python 3",
   "language": "python",
   "name": "python3"
  },
  "language_info": {
   "codemirror_mode": {
    "name": "ipython",
    "version": 3
   },
   "file_extension": ".py",
   "mimetype": "text/x-python",
   "name": "python",
   "nbconvert_exporter": "python",
   "pygments_lexer": "ipython3",
   "version": "3.8.5"
  }
 },
 "nbformat": 4,
 "nbformat_minor": 4
}
